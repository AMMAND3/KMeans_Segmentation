{
 "cells": [
  {
   "cell_type": "markdown",
   "id": "cc46b947",
   "metadata": {},
   "source": [
    "# Customer Segementation on Data\n",
    "\n",
    "Initially we preprocess, apply analysis. After which we use WCSS to find optimum number of clusters and call k-means clustering accordginly on the data (Which we finally visualize)\n",
    "\n",
    "We use several methods for the k-means model"
   ]
  },
  {
   "cell_type": "markdown",
   "id": "5c36d777",
   "metadata": {},
   "source": [
    "**import dependencies**"
   ]
  },
  {
   "cell_type": "code",
   "execution_count": 51,
   "id": "b14f2678",
   "metadata": {},
   "outputs": [],
   "source": [
    "import numpy as np\n",
    "import pandas as pd\n",
    "import matplotlib.pyplot as plt\n",
    "import seaborn as sns\n",
    "from sklearn.cluster import KMeans\n",
    "from yellowbrick.cluster import KElbowVisualizer\n",
    "import matplotlib.ticker as ticker"
   ]
  },
  {
   "cell_type": "markdown",
   "id": "4bd36913",
   "metadata": {},
   "source": [
    "**read the bank customer data. we use general pandas methods to get an idea of the data**"
   ]
  },
  {
   "cell_type": "code",
   "execution_count": 52,
   "id": "bcc3ad24",
   "metadata": {},
   "outputs": [
    {
     "data": {
      "text/html": [
       "<div>\n",
       "<style scoped>\n",
       "    .dataframe tbody tr th:only-of-type {\n",
       "        vertical-align: middle;\n",
       "    }\n",
       "\n",
       "    .dataframe tbody tr th {\n",
       "        vertical-align: top;\n",
       "    }\n",
       "\n",
       "    .dataframe thead th {\n",
       "        text-align: right;\n",
       "    }\n",
       "</style>\n",
       "<table border=\"1\" class=\"dataframe\">\n",
       "  <thead>\n",
       "    <tr style=\"text-align: right;\">\n",
       "      <th></th>\n",
       "      <th>TransactionID</th>\n",
       "      <th>CustomerID</th>\n",
       "      <th>CustomerDOB</th>\n",
       "      <th>CustGender</th>\n",
       "      <th>CustLocation</th>\n",
       "      <th>CustAccountBalance</th>\n",
       "      <th>TransactionDate</th>\n",
       "      <th>TransactionTime</th>\n",
       "      <th>TransactionAmount (INR)</th>\n",
       "    </tr>\n",
       "  </thead>\n",
       "  <tbody>\n",
       "    <tr>\n",
       "      <th>0</th>\n",
       "      <td>T1</td>\n",
       "      <td>C5841053</td>\n",
       "      <td>10/1/94</td>\n",
       "      <td>F</td>\n",
       "      <td>JAMSHEDPUR</td>\n",
       "      <td>17819.05</td>\n",
       "      <td>2/8/16</td>\n",
       "      <td>143207</td>\n",
       "      <td>25.0</td>\n",
       "    </tr>\n",
       "    <tr>\n",
       "      <th>1</th>\n",
       "      <td>T2</td>\n",
       "      <td>C2142763</td>\n",
       "      <td>4/4/57</td>\n",
       "      <td>M</td>\n",
       "      <td>JHAJJAR</td>\n",
       "      <td>2270.69</td>\n",
       "      <td>2/8/16</td>\n",
       "      <td>141858</td>\n",
       "      <td>27999.0</td>\n",
       "    </tr>\n",
       "    <tr>\n",
       "      <th>2</th>\n",
       "      <td>T3</td>\n",
       "      <td>C4417068</td>\n",
       "      <td>26/11/96</td>\n",
       "      <td>F</td>\n",
       "      <td>MUMBAI</td>\n",
       "      <td>17874.44</td>\n",
       "      <td>2/8/16</td>\n",
       "      <td>142712</td>\n",
       "      <td>459.0</td>\n",
       "    </tr>\n",
       "    <tr>\n",
       "      <th>3</th>\n",
       "      <td>T4</td>\n",
       "      <td>C5342380</td>\n",
       "      <td>14/9/73</td>\n",
       "      <td>F</td>\n",
       "      <td>MUMBAI</td>\n",
       "      <td>866503.21</td>\n",
       "      <td>2/8/16</td>\n",
       "      <td>142714</td>\n",
       "      <td>2060.0</td>\n",
       "    </tr>\n",
       "    <tr>\n",
       "      <th>4</th>\n",
       "      <td>T5</td>\n",
       "      <td>C9031234</td>\n",
       "      <td>24/3/88</td>\n",
       "      <td>F</td>\n",
       "      <td>NAVI MUMBAI</td>\n",
       "      <td>6714.43</td>\n",
       "      <td>2/8/16</td>\n",
       "      <td>181156</td>\n",
       "      <td>1762.5</td>\n",
       "    </tr>\n",
       "  </tbody>\n",
       "</table>\n",
       "</div>"
      ],
      "text/plain": [
       "  TransactionID CustomerID CustomerDOB CustGender CustLocation  \\\n",
       "0            T1   C5841053     10/1/94          F   JAMSHEDPUR   \n",
       "1            T2   C2142763      4/4/57          M      JHAJJAR   \n",
       "2            T3   C4417068    26/11/96          F       MUMBAI   \n",
       "3            T4   C5342380     14/9/73          F       MUMBAI   \n",
       "4            T5   C9031234     24/3/88          F  NAVI MUMBAI   \n",
       "\n",
       "   CustAccountBalance TransactionDate  TransactionTime  \\\n",
       "0            17819.05          2/8/16           143207   \n",
       "1             2270.69          2/8/16           141858   \n",
       "2            17874.44          2/8/16           142712   \n",
       "3           866503.21          2/8/16           142714   \n",
       "4             6714.43          2/8/16           181156   \n",
       "\n",
       "   TransactionAmount (INR)  \n",
       "0                     25.0  \n",
       "1                  27999.0  \n",
       "2                    459.0  \n",
       "3                   2060.0  \n",
       "4                   1762.5  "
      ]
     },
     "execution_count": 52,
     "metadata": {},
     "output_type": "execute_result"
    }
   ],
   "source": [
    "bank_customer_data = pd.read_csv(\"bank_transactions.csv\")\n",
    "bank_customer_data.head()"
   ]
  },
  {
   "cell_type": "code",
   "execution_count": 53,
   "id": "d59c1b1c",
   "metadata": {},
   "outputs": [
    {
     "name": "stdout",
     "output_type": "stream",
     "text": [
      "<class 'pandas.core.frame.DataFrame'>\n",
      "RangeIndex: 1048567 entries, 0 to 1048566\n",
      "Data columns (total 9 columns):\n",
      " #   Column                   Non-Null Count    Dtype  \n",
      "---  ------                   --------------    -----  \n",
      " 0   TransactionID            1048567 non-null  object \n",
      " 1   CustomerID               1048567 non-null  object \n",
      " 2   CustomerDOB              1045170 non-null  object \n",
      " 3   CustGender               1047467 non-null  object \n",
      " 4   CustLocation             1048416 non-null  object \n",
      " 5   CustAccountBalance       1046198 non-null  float64\n",
      " 6   TransactionDate          1048567 non-null  object \n",
      " 7   TransactionTime          1048567 non-null  int64  \n",
      " 8   TransactionAmount (INR)  1048567 non-null  float64\n",
      "dtypes: float64(2), int64(1), object(6)\n",
      "memory usage: 72.0+ MB\n"
     ]
    }
   ],
   "source": [
    "bank_customer_data.info()"
   ]
  },
  {
   "cell_type": "code",
   "execution_count": 54,
   "id": "7c85d076",
   "metadata": {},
   "outputs": [
    {
     "data": {
      "text/plain": [
       "(1048567, 9)"
      ]
     },
     "execution_count": 54,
     "metadata": {},
     "output_type": "execute_result"
    }
   ],
   "source": [
    "bank_customer_data.shape"
   ]
  },
  {
   "cell_type": "markdown",
   "id": "043c2175",
   "metadata": {},
   "source": [
    "**Let us also get rid of rows with na values, since we have a large enough dataset**"
   ]
  },
  {
   "cell_type": "code",
   "execution_count": 55,
   "id": "fc4ca238",
   "metadata": {},
   "outputs": [
    {
     "data": {
      "text/plain": [
       "TransactionID                 0\n",
       "CustomerID                    0\n",
       "CustomerDOB                3397\n",
       "CustGender                 1100\n",
       "CustLocation                151\n",
       "CustAccountBalance         2369\n",
       "TransactionDate               0\n",
       "TransactionTime               0\n",
       "TransactionAmount (INR)       0\n",
       "dtype: int64"
      ]
     },
     "execution_count": 55,
     "metadata": {},
     "output_type": "execute_result"
    }
   ],
   "source": [
    "bank_customer_data.isnull().sum()"
   ]
  },
  {
   "cell_type": "code",
   "execution_count": 56,
   "id": "8928ca6e",
   "metadata": {},
   "outputs": [
    {
     "data": {
      "text/plain": [
       "TransactionID              0\n",
       "CustomerID                 0\n",
       "CustomerDOB                0\n",
       "CustGender                 0\n",
       "CustLocation               0\n",
       "CustAccountBalance         0\n",
       "TransactionDate            0\n",
       "TransactionTime            0\n",
       "TransactionAmount (INR)    0\n",
       "dtype: int64"
      ]
     },
     "execution_count": 56,
     "metadata": {},
     "output_type": "execute_result"
    }
   ],
   "source": [
    "bank_customer_data.dropna(subset=['CustomerDOB', 'CustGender', 'CustLocation', 'CustAccountBalance'], inplace=True)\n",
    "bank_customer_data.isnull().sum()"
   ]
  },
  {
   "cell_type": "code",
   "execution_count": 57,
   "id": "05dd31c8",
   "metadata": {},
   "outputs": [
    {
     "data": {
      "text/plain": [
       "(1041614, 9)"
      ]
     },
     "execution_count": 57,
     "metadata": {},
     "output_type": "execute_result"
    }
   ],
   "source": [
    "bank_customer_data.shape"
   ]
  },
  {
   "cell_type": "markdown",
   "id": "d6546936",
   "metadata": {},
   "source": [
    "**Next, we need to ensure unique customers, hence we keep based on their mean balance and total transaction amount**"
   ]
  },
  {
   "cell_type": "code",
   "execution_count": 58,
   "id": "311881b9",
   "metadata": {},
   "outputs": [],
   "source": [
    "## OLD code: kept customer's last recorded transaction time instance\n",
    "# bank_customer_data['TransactionDate'] = pd.to_datetime(bank_customer_data['TransactionDate'])\n",
    "# # Sort by CustomerID, TransactionDate, and TransactionTime\n",
    "# bank_customer_data = bank_customer_data.sort_values(by=['CustomerID', 'TransactionDate', 'TransactionTime'])\n",
    "# # Drop duplicate CustomerIDs, keeping the last (most recent) one\n",
    "# bank_customer_data = bank_customer_data.drop_duplicates(subset='CustomerID', keep='last')"
   ]
  },
  {
   "cell_type": "markdown",
   "id": "1c91e014",
   "metadata": {},
   "source": [
    "We see the number of duplicate customer_ids below"
   ]
  },
  {
   "cell_type": "code",
   "execution_count": 59,
   "id": "9c650415",
   "metadata": {},
   "outputs": [
    {
     "data": {
      "text/plain": [
       "162256"
      ]
     },
     "execution_count": 59,
     "metadata": {},
     "output_type": "execute_result"
    }
   ],
   "source": [
    "# This gives you the count of all duplicated CustomerID entries excluding their first occurrence.\n",
    "bank_customer_data['CustomerID'].duplicated().sum()"
   ]
  },
  {
   "cell_type": "code",
   "execution_count": 60,
   "id": "6fb25e44",
   "metadata": {},
   "outputs": [
    {
     "data": {
      "text/plain": [
       "141961"
      ]
     },
     "execution_count": 60,
     "metadata": {},
     "output_type": "execute_result"
    }
   ],
   "source": [
    "# This gives you the count of unique CustomerIDs that have any duplicates.\n",
    "# Using the previous example, both CustomerIDs would be counted once, so the result would be two.\n",
    "duplicate_customer_ids = bank_customer_data['CustomerID'].value_counts()\n",
    "duplicate_customer_ids = duplicate_customer_ids[duplicate_customer_ids > 1].index.tolist()\n",
    "len(duplicate_customer_ids)"
   ]
  },
  {
   "cell_type": "code",
   "execution_count": 61,
   "id": "eaf952fe",
   "metadata": {},
   "outputs": [
    {
     "data": {
      "text/html": [
       "<div>\n",
       "<style scoped>\n",
       "    .dataframe tbody tr th:only-of-type {\n",
       "        vertical-align: middle;\n",
       "    }\n",
       "\n",
       "    .dataframe tbody tr th {\n",
       "        vertical-align: top;\n",
       "    }\n",
       "\n",
       "    .dataframe thead th {\n",
       "        text-align: right;\n",
       "    }\n",
       "</style>\n",
       "<table border=\"1\" class=\"dataframe\">\n",
       "  <thead>\n",
       "    <tr style=\"text-align: right;\">\n",
       "      <th></th>\n",
       "      <th>CustomerID</th>\n",
       "      <th>TransactionAmount (INR)</th>\n",
       "      <th>CustAccountBalance</th>\n",
       "      <th>CustomerDOB</th>\n",
       "      <th>CustGender</th>\n",
       "      <th>CustLocation</th>\n",
       "    </tr>\n",
       "  </thead>\n",
       "  <tbody>\n",
       "    <tr>\n",
       "      <th>0</th>\n",
       "      <td>C1010011</td>\n",
       "      <td>5106.0</td>\n",
       "      <td>76340.635</td>\n",
       "      <td>19/8/92</td>\n",
       "      <td>F</td>\n",
       "      <td>NOIDA</td>\n",
       "    </tr>\n",
       "    <tr>\n",
       "      <th>1</th>\n",
       "      <td>C1010012</td>\n",
       "      <td>1499.0</td>\n",
       "      <td>24204.490</td>\n",
       "      <td>28/7/94</td>\n",
       "      <td>M</td>\n",
       "      <td>MUMBAI</td>\n",
       "    </tr>\n",
       "    <tr>\n",
       "      <th>2</th>\n",
       "      <td>C1010014</td>\n",
       "      <td>1455.0</td>\n",
       "      <td>100112.950</td>\n",
       "      <td>4/6/92</td>\n",
       "      <td>F</td>\n",
       "      <td>MUMBAI</td>\n",
       "    </tr>\n",
       "    <tr>\n",
       "      <th>3</th>\n",
       "      <td>C1010018</td>\n",
       "      <td>30.0</td>\n",
       "      <td>496.180</td>\n",
       "      <td>29/5/90</td>\n",
       "      <td>F</td>\n",
       "      <td>CHAMPARAN</td>\n",
       "    </tr>\n",
       "    <tr>\n",
       "      <th>4</th>\n",
       "      <td>C1010024</td>\n",
       "      <td>5000.0</td>\n",
       "      <td>87058.650</td>\n",
       "      <td>21/6/65</td>\n",
       "      <td>M</td>\n",
       "      <td>KOLKATA</td>\n",
       "    </tr>\n",
       "    <tr>\n",
       "      <th>...</th>\n",
       "      <td>...</td>\n",
       "      <td>...</td>\n",
       "      <td>...</td>\n",
       "      <td>...</td>\n",
       "      <td>...</td>\n",
       "      <td>...</td>\n",
       "    </tr>\n",
       "    <tr>\n",
       "      <th>879353</th>\n",
       "      <td>C9099836</td>\n",
       "      <td>691.0</td>\n",
       "      <td>133067.230</td>\n",
       "      <td>24/12/90</td>\n",
       "      <td>M</td>\n",
       "      <td>BHIWANDI</td>\n",
       "    </tr>\n",
       "    <tr>\n",
       "      <th>879354</th>\n",
       "      <td>C9099877</td>\n",
       "      <td>222.0</td>\n",
       "      <td>96063.460</td>\n",
       "      <td>9/6/96</td>\n",
       "      <td>M</td>\n",
       "      <td>BANGALORE</td>\n",
       "    </tr>\n",
       "    <tr>\n",
       "      <th>879355</th>\n",
       "      <td>C9099919</td>\n",
       "      <td>126.0</td>\n",
       "      <td>5559.750</td>\n",
       "      <td>21/10/93</td>\n",
       "      <td>M</td>\n",
       "      <td>GUNTUR</td>\n",
       "    </tr>\n",
       "    <tr>\n",
       "      <th>879356</th>\n",
       "      <td>C9099941</td>\n",
       "      <td>50.0</td>\n",
       "      <td>35295.920</td>\n",
       "      <td>22/4/95</td>\n",
       "      <td>M</td>\n",
       "      <td>CHENNAI</td>\n",
       "    </tr>\n",
       "    <tr>\n",
       "      <th>879357</th>\n",
       "      <td>C9099956</td>\n",
       "      <td>855.0</td>\n",
       "      <td>6968.930</td>\n",
       "      <td>11/9/82</td>\n",
       "      <td>M</td>\n",
       "      <td>MUSSOORIE</td>\n",
       "    </tr>\n",
       "  </tbody>\n",
       "</table>\n",
       "<p>879358 rows × 6 columns</p>\n",
       "</div>"
      ],
      "text/plain": [
       "       CustomerID  TransactionAmount (INR)  CustAccountBalance CustomerDOB  \\\n",
       "0        C1010011                   5106.0           76340.635     19/8/92   \n",
       "1        C1010012                   1499.0           24204.490     28/7/94   \n",
       "2        C1010014                   1455.0          100112.950      4/6/92   \n",
       "3        C1010018                     30.0             496.180     29/5/90   \n",
       "4        C1010024                   5000.0           87058.650     21/6/65   \n",
       "...           ...                      ...                 ...         ...   \n",
       "879353   C9099836                    691.0          133067.230    24/12/90   \n",
       "879354   C9099877                    222.0           96063.460      9/6/96   \n",
       "879355   C9099919                    126.0            5559.750    21/10/93   \n",
       "879356   C9099941                     50.0           35295.920     22/4/95   \n",
       "879357   C9099956                    855.0            6968.930     11/9/82   \n",
       "\n",
       "       CustGender CustLocation  \n",
       "0               F        NOIDA  \n",
       "1               M       MUMBAI  \n",
       "2               F       MUMBAI  \n",
       "3               F    CHAMPARAN  \n",
       "4               M      KOLKATA  \n",
       "...           ...          ...  \n",
       "879353          M     BHIWANDI  \n",
       "879354          M    BANGALORE  \n",
       "879355          M       GUNTUR  \n",
       "879356          M      CHENNAI  \n",
       "879357          M    MUSSOORIE  \n",
       "\n",
       "[879358 rows x 6 columns]"
      ]
     },
     "execution_count": 61,
     "metadata": {},
     "output_type": "execute_result"
    }
   ],
   "source": [
    "# Group by CustomerID\n",
    "agg_funcs = {\n",
    "    'TransactionAmount (INR)': 'sum',         # Sum TransactionAmounts\n",
    "    'CustAccountBalance': 'mean',             # Average Account Balance\n",
    "    'CustomerDOB': 'first',                   # Keep the first DOB (assuming it's consistent across duplicate rows)\n",
    "    'CustGender': 'first',                    # Keep the first Gender (assuming it's consistent across duplicate rows)\n",
    "    'CustLocation': 'first'                   # Keep the first Location (assuming it's consistent across duplicate rows)\n",
    "}\n",
    "bank_customer_data = bank_customer_data.groupby('CustomerID').agg(agg_funcs).reset_index()\n",
    "bank_customer_data"
   ]
  },
  {
   "cell_type": "code",
   "execution_count": 62,
   "id": "95f1d777",
   "metadata": {},
   "outputs": [
    {
     "data": {
      "text/plain": [
       "(879358, 6)"
      ]
     },
     "execution_count": 62,
     "metadata": {},
     "output_type": "execute_result"
    }
   ],
   "source": [
    "bank_customer_data.shape"
   ]
  },
  {
   "cell_type": "code",
   "execution_count": 63,
   "id": "767f57d9",
   "metadata": {},
   "outputs": [
    {
     "data": {
      "text/plain": [
       "0"
      ]
     },
     "execution_count": 63,
     "metadata": {},
     "output_type": "execute_result"
    }
   ],
   "source": [
    "bank_customer_data['CustomerID'].duplicated().sum()"
   ]
  },
  {
   "cell_type": "code",
   "execution_count": 64,
   "id": "2fe817c4",
   "metadata": {},
   "outputs": [
    {
     "data": {
      "text/plain": [
       "0"
      ]
     },
     "execution_count": 64,
     "metadata": {},
     "output_type": "execute_result"
    }
   ],
   "source": [
    "duplicate_customer_ids = bank_customer_data['CustomerID'].value_counts()\n",
    "duplicate_customer_ids = duplicate_customer_ids[duplicate_customer_ids > 1].index.tolist()\n",
    "len(duplicate_customer_ids)"
   ]
  },
  {
   "cell_type": "markdown",
   "id": "9d14b434",
   "metadata": {},
   "source": [
    "**We split based on CustAccountBalance and TransactionAmount (INR), since the other values don't matter (example gender, location) for our case**"
   ]
  },
  {
   "cell_type": "code",
   "execution_count": 81,
   "id": "ca70bca9",
   "metadata": {},
   "outputs": [
    {
     "data": {
      "text/html": [
       "<div>\n",
       "<style scoped>\n",
       "    .dataframe tbody tr th:only-of-type {\n",
       "        vertical-align: middle;\n",
       "    }\n",
       "\n",
       "    .dataframe tbody tr th {\n",
       "        vertical-align: top;\n",
       "    }\n",
       "\n",
       "    .dataframe thead th {\n",
       "        text-align: right;\n",
       "    }\n",
       "</style>\n",
       "<table border=\"1\" class=\"dataframe\">\n",
       "  <thead>\n",
       "    <tr style=\"text-align: right;\">\n",
       "      <th></th>\n",
       "      <th>TotalTransactionAmount</th>\n",
       "      <th>MeanCustomerBalance</th>\n",
       "    </tr>\n",
       "  </thead>\n",
       "  <tbody>\n",
       "    <tr>\n",
       "      <th>0</th>\n",
       "      <td>5106.0</td>\n",
       "      <td>76340.635</td>\n",
       "    </tr>\n",
       "    <tr>\n",
       "      <th>1</th>\n",
       "      <td>1499.0</td>\n",
       "      <td>24204.490</td>\n",
       "    </tr>\n",
       "    <tr>\n",
       "      <th>2</th>\n",
       "      <td>1455.0</td>\n",
       "      <td>100112.950</td>\n",
       "    </tr>\n",
       "    <tr>\n",
       "      <th>3</th>\n",
       "      <td>30.0</td>\n",
       "      <td>496.180</td>\n",
       "    </tr>\n",
       "    <tr>\n",
       "      <th>4</th>\n",
       "      <td>5000.0</td>\n",
       "      <td>87058.650</td>\n",
       "    </tr>\n",
       "    <tr>\n",
       "      <th>...</th>\n",
       "      <td>...</td>\n",
       "      <td>...</td>\n",
       "    </tr>\n",
       "    <tr>\n",
       "      <th>879353</th>\n",
       "      <td>691.0</td>\n",
       "      <td>133067.230</td>\n",
       "    </tr>\n",
       "    <tr>\n",
       "      <th>879354</th>\n",
       "      <td>222.0</td>\n",
       "      <td>96063.460</td>\n",
       "    </tr>\n",
       "    <tr>\n",
       "      <th>879355</th>\n",
       "      <td>126.0</td>\n",
       "      <td>5559.750</td>\n",
       "    </tr>\n",
       "    <tr>\n",
       "      <th>879356</th>\n",
       "      <td>50.0</td>\n",
       "      <td>35295.920</td>\n",
       "    </tr>\n",
       "    <tr>\n",
       "      <th>879357</th>\n",
       "      <td>855.0</td>\n",
       "      <td>6968.930</td>\n",
       "    </tr>\n",
       "  </tbody>\n",
       "</table>\n",
       "<p>879358 rows × 2 columns</p>\n",
       "</div>"
      ],
      "text/plain": [
       "        TotalTransactionAmount  MeanCustomerBalance\n",
       "0                       5106.0            76340.635\n",
       "1                       1499.0            24204.490\n",
       "2                       1455.0           100112.950\n",
       "3                         30.0              496.180\n",
       "4                       5000.0            87058.650\n",
       "...                        ...                  ...\n",
       "879353                   691.0           133067.230\n",
       "879354                   222.0            96063.460\n",
       "879355                   126.0             5559.750\n",
       "879356                    50.0            35295.920\n",
       "879357                   855.0             6968.930\n",
       "\n",
       "[879358 rows x 2 columns]"
      ]
     },
     "execution_count": 81,
     "metadata": {},
     "output_type": "execute_result"
    }
   ],
   "source": [
    "bank_customer_financials = bank_customer_financials.rename(columns={\n",
    "    bank_customer_financials.columns[0]: \"TotalTransactionAmount\",\n",
    "    bank_customer_financials.columns[1]: \"MeanCustomerBalance\"\n",
    "})\n",
    "bank_customer_financials"
   ]
  },
  {
   "cell_type": "markdown",
   "id": "920295cc",
   "metadata": {},
   "source": [
    "# Elbow Point"
   ]
  },
  {
   "cell_type": "markdown",
   "id": "ff79da91",
   "metadata": {},
   "source": [
    "Let us first visualize the possible elbow points"
   ]
  },
  {
   "cell_type": "markdown",
   "id": "70092f77",
   "metadata": {},
   "source": [
    "**Choosing number of clusters WCSS -> Within Cluster Sum of Squares**\n",
    "\n",
    "We find the centroid of different clusters, containing datapoints close to each other\n",
    "\n",
    "This loop iterates from 1 to 12 (inclusive). I chose 12 since it was most common drop for this type of cluster data\n",
    "\n",
    "**For each iteration**:\n",
    "\n",
    "A KMeans clustering model is initialized with i clusters, using the 'k-means++' initialization method and a fixed random state of 42.\n",
    "\n",
    "The KMeans model is then fit to the data (df).\n",
    "The WCSS (inertia) for the clustering model is appended to the wcss list. Inertia is the sum of squared distances of samples to their closest cluster center."
   ]
  },
  {
   "cell_type": "code",
   "execution_count": 72,
   "id": "d93e7cd5",
   "metadata": {},
   "outputs": [
    {
     "name": "stderr",
     "output_type": "stream",
     "text": [
      "/Users/amman3/anaconda3/lib/python3.10/site-packages/sklearn/cluster/_kmeans.py:1416: FutureWarning: The default value of `n_init` will change from 10 to 'auto' in 1.4. Set the value of `n_init` explicitly to suppress the warning\n",
      "  super()._check_params_vs_input(X, default_n_init=10)\n",
      "/Users/amman3/anaconda3/lib/python3.10/site-packages/sklearn/cluster/_kmeans.py:1416: FutureWarning: The default value of `n_init` will change from 10 to 'auto' in 1.4. Set the value of `n_init` explicitly to suppress the warning\n",
      "  super()._check_params_vs_input(X, default_n_init=10)\n",
      "/Users/amman3/anaconda3/lib/python3.10/site-packages/sklearn/cluster/_kmeans.py:1416: FutureWarning: The default value of `n_init` will change from 10 to 'auto' in 1.4. Set the value of `n_init` explicitly to suppress the warning\n",
      "  super()._check_params_vs_input(X, default_n_init=10)\n",
      "/Users/amman3/anaconda3/lib/python3.10/site-packages/sklearn/cluster/_kmeans.py:1416: FutureWarning: The default value of `n_init` will change from 10 to 'auto' in 1.4. Set the value of `n_init` explicitly to suppress the warning\n",
      "  super()._check_params_vs_input(X, default_n_init=10)\n",
      "/Users/amman3/anaconda3/lib/python3.10/site-packages/sklearn/cluster/_kmeans.py:1416: FutureWarning: The default value of `n_init` will change from 10 to 'auto' in 1.4. Set the value of `n_init` explicitly to suppress the warning\n",
      "  super()._check_params_vs_input(X, default_n_init=10)\n",
      "/Users/amman3/anaconda3/lib/python3.10/site-packages/sklearn/cluster/_kmeans.py:1416: FutureWarning: The default value of `n_init` will change from 10 to 'auto' in 1.4. Set the value of `n_init` explicitly to suppress the warning\n",
      "  super()._check_params_vs_input(X, default_n_init=10)\n",
      "/Users/amman3/anaconda3/lib/python3.10/site-packages/sklearn/cluster/_kmeans.py:1416: FutureWarning: The default value of `n_init` will change from 10 to 'auto' in 1.4. Set the value of `n_init` explicitly to suppress the warning\n",
      "  super()._check_params_vs_input(X, default_n_init=10)\n",
      "/Users/amman3/anaconda3/lib/python3.10/site-packages/sklearn/cluster/_kmeans.py:1416: FutureWarning: The default value of `n_init` will change from 10 to 'auto' in 1.4. Set the value of `n_init` explicitly to suppress the warning\n",
      "  super()._check_params_vs_input(X, default_n_init=10)\n",
      "/Users/amman3/anaconda3/lib/python3.10/site-packages/sklearn/cluster/_kmeans.py:1416: FutureWarning: The default value of `n_init` will change from 10 to 'auto' in 1.4. Set the value of `n_init` explicitly to suppress the warning\n",
      "  super()._check_params_vs_input(X, default_n_init=10)\n",
      "/Users/amman3/anaconda3/lib/python3.10/site-packages/sklearn/cluster/_kmeans.py:1416: FutureWarning: The default value of `n_init` will change from 10 to 'auto' in 1.4. Set the value of `n_init` explicitly to suppress the warning\n",
      "  super()._check_params_vs_input(X, default_n_init=10)\n",
      "/Users/amman3/anaconda3/lib/python3.10/site-packages/sklearn/cluster/_kmeans.py:1416: FutureWarning: The default value of `n_init` will change from 10 to 'auto' in 1.4. Set the value of `n_init` explicitly to suppress the warning\n",
      "  super()._check_params_vs_input(X, default_n_init=10)\n",
      "/Users/amman3/anaconda3/lib/python3.10/site-packages/sklearn/cluster/_kmeans.py:1416: FutureWarning: The default value of `n_init` will change from 10 to 'auto' in 1.4. Set the value of `n_init` explicitly to suppress the warning\n",
      "  super()._check_params_vs_input(X, default_n_init=10)\n"
     ]
    }
   ],
   "source": [
    "wcss = []\n",
    "for i in range (1, 13):\n",
    "    kmeans = KMeans(n_clusters = i,init='k-means++', random_state=42)\n",
    "    kmeans.fit(df)\n",
    "    wcss.append(kmeans.inertia_)"
   ]
  },
  {
   "cell_type": "markdown",
   "id": "6914ffda",
   "metadata": {},
   "source": [
    "**Plot elbow graph visualization**"
   ]
  },
  {
   "cell_type": "code",
   "execution_count": 73,
   "id": "398222f0",
   "metadata": {},
   "outputs": [
    {
     "data": {
      "image/png": "[encoded data removed]",
      "text/plain": [
       "<Figure size 300x300 with 1 Axes>"
      ]
     },
     "metadata": {},
     "output_type": "display_data"
    }
   ],
   "source": [
    "sns.set()\n",
    "plt.figure(figsize=(3, 3))\n",
    "plt.plot(range(1, 13), wcss)\n",
    "plt.title(\"Elbow Point Graph\")\n",
    "plt.xlabel(\"Number of Clusters\")\n",
    "plt.ylabel(\"WCSS\")\n",
    "plt.show()"
   ]
  },
  {
   "cell_type": "markdown",
   "id": "9429d56f",
   "metadata": {},
   "source": [
    "**Finding optimal point on Elbow Graph**\n",
    "\n",
    "We can also initalize another model to find the optimal elbow point(s) with yellowbrick clusters"
   ]
  },
  {
   "cell_type": "markdown",
   "id": "4542b8bb",
   "metadata": {},
   "source": [
    "**Distortion**: It is calculated as the average of the squared distances from the cluster centers of the respective clusters to each data point. Typically, the Euclidean distance metric is used.\n",
    "\n",
    "                Distortion = 1/n * Σ(distance(point, centroid)^2)\n",
    "**Inertia**: It is the sum of the squared distances of samples to their closest cluster center.\n",
    "\n",
    "                 Inertia = Σ(distance(point, centroid)^2)\n",
    "We iterate the values of k from 1 to n and calculate the values of distortions for each value of k and calculate the distortion and inertia for each value of k in the given range.\n",
    "\n",
    "We initialize a basic KMeans instance, create it's visualizer and finally show it fitted onto our dataframe"
   ]
  },
  {
   "cell_type": "code",
   "execution_count": 74,
   "id": "64c8d2b9",
   "metadata": {},
   "outputs": [
    {
     "name": "stderr",
     "output_type": "stream",
     "text": [
      "/Users/amman3/anaconda3/lib/python3.10/site-packages/sklearn/cluster/_kmeans.py:1416: FutureWarning: The default value of `n_init` will change from 10 to 'auto' in 1.4. Set the value of `n_init` explicitly to suppress the warning\n",
      "  super()._check_params_vs_input(X, default_n_init=10)\n",
      "/Users/amman3/anaconda3/lib/python3.10/site-packages/sklearn/cluster/_kmeans.py:1416: FutureWarning: The default value of `n_init` will change from 10 to 'auto' in 1.4. Set the value of `n_init` explicitly to suppress the warning\n",
      "  super()._check_params_vs_input(X, default_n_init=10)\n",
      "/Users/amman3/anaconda3/lib/python3.10/site-packages/sklearn/cluster/_kmeans.py:1416: FutureWarning: The default value of `n_init` will change from 10 to 'auto' in 1.4. Set the value of `n_init` explicitly to suppress the warning\n",
      "  super()._check_params_vs_input(X, default_n_init=10)\n",
      "/Users/amman3/anaconda3/lib/python3.10/site-packages/sklearn/cluster/_kmeans.py:1416: FutureWarning: The default value of `n_init` will change from 10 to 'auto' in 1.4. Set the value of `n_init` explicitly to suppress the warning\n",
      "  super()._check_params_vs_input(X, default_n_init=10)\n",
      "/Users/amman3/anaconda3/lib/python3.10/site-packages/sklearn/cluster/_kmeans.py:1416: FutureWarning: The default value of `n_init` will change from 10 to 'auto' in 1.4. Set the value of `n_init` explicitly to suppress the warning\n",
      "  super()._check_params_vs_input(X, default_n_init=10)\n",
      "/Users/amman3/anaconda3/lib/python3.10/site-packages/sklearn/cluster/_kmeans.py:1416: FutureWarning: The default value of `n_init` will change from 10 to 'auto' in 1.4. Set the value of `n_init` explicitly to suppress the warning\n",
      "  super()._check_params_vs_input(X, default_n_init=10)\n",
      "/Users/amman3/anaconda3/lib/python3.10/site-packages/sklearn/cluster/_kmeans.py:1416: FutureWarning: The default value of `n_init` will change from 10 to 'auto' in 1.4. Set the value of `n_init` explicitly to suppress the warning\n",
      "  super()._check_params_vs_input(X, default_n_init=10)\n",
      "/Users/amman3/anaconda3/lib/python3.10/site-packages/sklearn/cluster/_kmeans.py:1416: FutureWarning: The default value of `n_init` will change from 10 to 'auto' in 1.4. Set the value of `n_init` explicitly to suppress the warning\n",
      "  super()._check_params_vs_input(X, default_n_init=10)\n",
      "/Users/amman3/anaconda3/lib/python3.10/site-packages/sklearn/cluster/_kmeans.py:1416: FutureWarning: The default value of `n_init` will change from 10 to 'auto' in 1.4. Set the value of `n_init` explicitly to suppress the warning\n",
      "  super()._check_params_vs_input(X, default_n_init=10)\n",
      "/Users/amman3/anaconda3/lib/python3.10/site-packages/sklearn/cluster/_kmeans.py:1416: FutureWarning: The default value of `n_init` will change from 10 to 'auto' in 1.4. Set the value of `n_init` explicitly to suppress the warning\n",
      "  super()._check_params_vs_input(X, default_n_init=10)\n",
      "/Users/amman3/anaconda3/lib/python3.10/site-packages/sklearn/cluster/_kmeans.py:1416: FutureWarning: The default value of `n_init` will change from 10 to 'auto' in 1.4. Set the value of `n_init` explicitly to suppress the warning\n",
      "  super()._check_params_vs_input(X, default_n_init=10)\n",
      "/Users/amman3/anaconda3/lib/python3.10/site-packages/sklearn/cluster/_kmeans.py:1416: FutureWarning: The default value of `n_init` will change from 10 to 'auto' in 1.4. Set the value of `n_init` explicitly to suppress the warning\n",
      "  super()._check_params_vs_input(X, default_n_init=10)\n"
     ]
    },
    {
     "data": {
      "image/png": "[encoded data removed]",
      "text/plain": [
       "<Figure size 800x550 with 2 Axes>"
      ]
     },
     "metadata": {},
     "output_type": "display_data"
    },
    {
     "data": {
      "text/plain": [
       "<Axes: title={'center': 'Distortion Score Elbow for KMeans Clustering'}, xlabel='k', ylabel='distortion score'>"
      ]
     },
     "execution_count": 74,
     "metadata": {},
     "output_type": "execute_result"
    }
   ],
   "source": [
    "model = KMeans(init='k-means++', random_state=42)\n",
    "visualizer = KElbowVisualizer(model, k=(1,13))\n",
    "visualizer.fit(df)\n",
    "# labels\n",
    "visualizer.ax.set_title(\"Customized Elbow Point Graph\")\n",
    "visualizer.ax.set_xlabel(\"Number of Clusters\")\n",
    "visualizer.ax.set_ylabel(\"WCSS Value\")\n",
    "visualizer.show()"
   ]
  },
  {
   "cell_type": "markdown",
   "id": "1d684417",
   "metadata": {},
   "source": [
    "**We see that the optimal number of clusters is 4 since it at this point we do not get anymore significant drop in distortion**"
   ]
  },
  {
   "cell_type": "markdown",
   "id": "8ed52a56",
   "metadata": {},
   "source": [
    "# KMeans Model"
   ]
  },
  {
   "cell_type": "code",
   "execution_count": 75,
   "id": "91e5ceb8",
   "metadata": {},
   "outputs": [
    {
     "name": "stderr",
     "output_type": "stream",
     "text": [
      "/Users/amman3/anaconda3/lib/python3.10/site-packages/sklearn/cluster/_kmeans.py:1416: FutureWarning: The default value of `n_init` will change from 10 to 'auto' in 1.4. Set the value of `n_init` explicitly to suppress the warning\n",
      "  super()._check_params_vs_input(X, default_n_init=10)\n"
     ]
    },
    {
     "name": "stdout",
     "output_type": "stream",
     "text": [
      "[0 0 0 ... 0 0 0]\n"
     ]
    }
   ],
   "source": [
    "kmeans = KMeans(n_clusters = 4, init='k-means++', random_state=0)\n",
    "Y = kmeans.fit_predict(df)\n",
    "print(Y)"
   ]
  },
  {
   "cell_type": "code",
   "execution_count": 76,
   "id": "aa1b8b52",
   "metadata": {},
   "outputs": [
    {
     "name": "stdout",
     "output_type": "stream",
     "text": [
      "879358\n",
      "872356\n",
      "378\n",
      "43\n",
      "6581\n"
     ]
    }
   ],
   "source": [
    "print(len(Y))\n",
    "print(np.sum(Y == 0))\n",
    "print(np.sum(Y == 1))\n",
    "print(np.sum(Y == 2))\n",
    "print(np.sum(Y == 3))"
   ]
  },
  {
   "cell_type": "markdown",
   "id": "0772adf4",
   "metadata": {},
   "source": [
    "**Visualize clusters - We know 4 clusters are 0,1,2,3**"
   ]
  },
  {
   "cell_type": "code",
   "execution_count": 77,
   "id": "8cc247e9",
   "metadata": {},
   "outputs": [],
   "source": [
    "def set_lakh_formatter(ax, axis='both'):\n",
    "    \"\"\"\n",
    "    Set the tick labels to represent values in lakhs.\n",
    "    Args:\n",
    "    - ax: The axis object.\n",
    "    - axis: 'x', 'y', or 'both'; determines which axis will get the formatter.\n",
    "    \"\"\"\n",
    "    def lakh_formatter(x, pos):\n",
    "        return '{:.0f}L'.format(x / 1e5)\n",
    "    \n",
    "    if axis in ['x', 'both']:\n",
    "        ax.xaxis.set_major_formatter(ticker.FuncFormatter(lakh_formatter))\n",
    "    \n",
    "    if axis in ['y', 'both']:\n",
    "        ax.yaxis.set_major_formatter(ticker.FuncFormatter(lakh_formatter))"
   ]
  },
  {
   "cell_type": "code",
   "execution_count": 79,
   "id": "5e322667",
   "metadata": {},
   "outputs": [
    {
     "data": {
      "image/png": "[encoded data removed]",
      "text/plain": [
       "<Figure size 700x700 with 1 Axes>"
      ]
     },
     "metadata": {},
     "output_type": "display_data"
    }
   ],
   "source": [
    "plt.figure(figsize=(7,7))\n",
    "plt.scatter(df.loc[Y==0, df.columns[1]], df.loc[Y==0, df.columns[0]], s=50, c='green', label = 'Cluster 1')\n",
    "plt.scatter(df.loc[Y==1, df.columns[1]], df.loc[Y==1, df.columns[0]], s=50, c='yellow', label = 'Cluster 2')\n",
    "\n",
    "plt.scatter(df.loc[Y==2, df.columns[1]], df.loc[Y==2, df.columns[0]], s=50, c='orange', label = 'Cluster 3')\n",
    "plt.scatter(df.loc[Y==3, df.columns[1]], df.loc[Y==3, df.columns[0]], s=50, c='red', label = 'Cluster 4')\n",
    "\n",
    "plt.scatter(kmeans.cluster_centers_[:,0], kmeans.cluster_centers_[:,1], s=100, c='cyan', label='centroids')\n",
    "\n",
    "# Adjust tick labels to show values in lakhs\n",
    "ax = plt.gca()  # Get current axis\n",
    "set_lakh_formatter(ax, 'both')  # Set both x and y axes to use lakh notation\n",
    "\n",
    "plt.title('Customer Groups')\n",
    "plt.ylabel('Total Transaction Amount (in Lakhs)')\n",
    "plt.xlabel('Average Account Balance (in Lakhs)')\n",
    "plt.show()"
   ]
  },
  {
   "cell_type": "code",
   "execution_count": null,
   "id": "1f68e2ab",
   "metadata": {},
   "outputs": [],
   "source": []
  }
 ],
 "metadata": {
  "kernelspec": {
   "display_name": "Python 3 (ipykernel)",
   "language": "python",
   "name": "python3"
  },
  "language_info": {
   "codemirror_mode": {
    "name": "ipython",
    "version": 3
   },
   "file_extension": ".py",
   "mimetype": "text/x-python",
   "name": "python",
   "nbconvert_exporter": "python",
   "pygments_lexer": "ipython3",
   "version": "3.10.9"
  }
 },
 "nbformat": 4,
 "nbformat_minor": 5
}
